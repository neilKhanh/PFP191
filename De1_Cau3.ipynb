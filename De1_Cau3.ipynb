{
 "cells": [
  {
   "cell_type": "code",
   "execution_count": 19,
   "id": "123b1f36",
   "metadata": {},
   "outputs": [
    {
     "name": "stdout",
     "output_type": "stream",
     "text": [
      "Enter the number of students: Do Tien SI\n",
      "Please enter a number!\n",
      "Enter the number of students: 2\n",
      "Enter student :1\n",
      "Enter name: Do Tien Si\n",
      "Enter age: 21\n",
      "Enter mark: 8\n",
      "Enter student :2\n",
      "Enter name: Bui Nhu Lac\n",
      "Enter age: 22\n",
      "Enter mark: 9\n",
      "Before softing\n",
      "Student  1\n",
      "Name : Do Tien Si\n",
      "Mark : 8\n",
      "Age : 21\n",
      "Student  2\n",
      "Name : Bui Nhu Lac\n",
      "Mark : 9\n",
      "Age : 22\n",
      "After softing\n",
      "Student  1\n",
      "Name : Bui Nhu Lac\n",
      "Mark : 9\n",
      "Age : 22\n",
      "Student  2\n",
      "Name : Do Tien Si\n",
      "Mark : 8\n",
      "Age : 21\n"
     ]
    }
   ],
   "source": [
    "class Student:\n",
    "    def __init__(self, name, age, mark):\n",
    "        self.name = name\n",
    "        self.age = age\n",
    "        self.mark = mark\n",
    "\n",
    "def sort_key(Student):\n",
    "    return Student.name\n",
    "\n",
    "students = []\n",
    "\n",
    "while True:     # kiểm tra xem input có đúng là một số không\n",
    "    number_of_students = input(\"Enter the number of students: \")\n",
    "    if number_of_students.isdigit():\n",
    "        break\n",
    "    else:\n",
    "        print(\"Please enter a number!\")\n",
    "\n",
    "# nhập thông tin từng học sinh\n",
    "for i in range(int(number_of_students)):\n",
    "    temp = int(input(\"Enter student :\")) \n",
    "    students.append(Student(\n",
    "                input('Enter name: '),\n",
    "                int(input('Enter age: ')),\n",
    "                int(input('Enter mark: '))\n",
    "                ))\n",
    " \n",
    "print(\"Before softing\")     \n",
    "for i in range(len(students)):      # in danh sách trước khi sắp xếp\n",
    "    print(\"Student \", i + 1)\n",
    "    print(\"Name : {}\\nMark : {}\\nAge : {}\".format(students[i].name, students[i].mark, students[i].age))\n",
    "\n",
    "print(\"After softing\")\n",
    "\n",
    "\n",
    "students.sort(key=sort_key, reverse=False)      # sắp xếp\n",
    "# key=func, hàm sẽ sắp xếp các phần tử trong list theo giá trị trả về của key, trong trường hợp này là name\n",
    "\n",
    "for i in range(len(students)):      # in danh sách sau khi sắp xếp\n",
    "    print(\"Student \", i + 1)\n",
    "    print(\"Name : {}\\nMark : {}\\nAge : {}\".format(students[i].name, students[i].mark, students[i].age))\n"
   ]
  }
 ],
 "metadata": {
  "kernelspec": {
   "display_name": "Python 3 (ipykernel)",
   "language": "python",
   "name": "python3"
  },
  "language_info": {
   "codemirror_mode": {
    "name": "ipython",
    "version": 3
   },
   "file_extension": ".py",
   "mimetype": "text/x-python",
   "name": "python",
   "nbconvert_exporter": "python",
   "pygments_lexer": "ipython3",
   "version": "3.9.12"
  }
 },
 "nbformat": 4,
 "nbformat_minor": 5
}
