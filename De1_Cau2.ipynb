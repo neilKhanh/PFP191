{
 "cells": [
  {
   "cell_type": "markdown",
   "id": "c6dc9aed",
   "metadata": {},
   "source": [
    "# Bài này có 3 yêu cầu chính: Đọc data từ file, Hiện thị data theo yêu cầu và Tính toán"
   ]
  },
  {
   "cell_type": "code",
   "execution_count": 17,
   "id": "bf841571",
   "metadata": {},
   "outputs": [],
   "source": [
    "path = 'D:\\FPT-Summer22\\SSG104\\Source_PE_PFP\\\\'\n",
    "#Đây là path file thư mục ở máy mình dùng để tạo và mở file, các bạn hãy lấy đúng path file của máy các bạn nhá"
   ]
  },
  {
   "cell_type": "markdown",
   "id": "0eccef5c",
   "metadata": {},
   "source": [
    "Đọc data từ file"
   ]
  },
  {
   "cell_type": "code",
   "execution_count": 28,
   "id": "5cff7ac0",
   "metadata": {},
   "outputs": [
    {
     "name": "stdout",
     "output_type": "stream",
     "text": [
      "data.txt\n",
      "D:\\FPT-Summer22\\SSG104\\Source_PE_PFP\\data.txt\n"
     ]
    }
   ],
   "source": [
    "# nhập tên file\n",
    "file_name = input()\n",
    "print(path+file_name)"
   ]
  },
  {
   "cell_type": "code",
   "execution_count": 30,
   "id": "aa726e86",
   "metadata": {},
   "outputs": [
    {
     "name": "stdout",
     "output_type": "stream",
     "text": [
      "['D 400\\n', 'D 500\\n', 'W 200\\n', 'D 100']\n"
     ]
    }
   ],
   "source": [
    "# Đọc dữ liệu từ file\n",
    "f =  open(path+file_name, 'r')\n",
    "data = f.readlines() #đọc từng dòng dữ liệu trong file\n",
    "print(data)\n",
    "# có thể thấy có kí tự \\n báo hiệu xuống dòng, ta cần loại bỏ kí tự thừa này"
   ]
  },
  {
   "cell_type": "code",
   "execution_count": 31,
   "id": "9d1f374a",
   "metadata": {},
   "outputs": [
    {
     "name": "stdout",
     "output_type": "stream",
     "text": [
      "['D 400', 'D 500', 'W 200', 'D 100']\n"
     ]
    }
   ],
   "source": [
    "for i in range(len(data)):\n",
    "    data[i] = data[i].replace('\\n', '') # xoá '\\n' khi đọc file\n",
    "print(data)"
   ]
  },
  {
   "cell_type": "code",
   "execution_count": 33,
   "id": "cbe3e14b",
   "metadata": {},
   "outputs": [
    {
     "name": "stdout",
     "output_type": "stream",
     "text": [
      "Content: D 400, D 500, W 200, D 100\n"
     ]
    }
   ],
   "source": [
    "# In ra content\n",
    "print(\"Content:\", ', '.join(data))"
   ]
  },
  {
   "cell_type": "code",
   "execution_count": 34,
   "id": "92a2093f",
   "metadata": {},
   "outputs": [
    {
     "name": "stdout",
     "output_type": "stream",
     "text": [
      "['D', '400']\n",
      "['D', '500']\n",
      "['W', '200']\n",
      "['D', '100']\n"
     ]
    }
   ],
   "source": [
    "# Giờ chúng ta cần tách yêu cầu của người dùng với số lượng ra\n",
    "# Sử dụng split()\n",
    "for i in data:\n",
    "    print(i.split())"
   ]
  },
  {
   "cell_type": "code",
   "execution_count": 39,
   "id": "123defbb",
   "metadata": {},
   "outputs": [
    {
     "name": "stdout",
     "output_type": "stream",
     "text": [
      "['D', 'D', 'W', 'D']\n",
      "[400, 500, 200, 100]\n"
     ]
    }
   ],
   "source": [
    "req = [] # dùng để lưu trữ yêu cầu (request)\n",
    "amount = [] # dùng để lưuu trữ số lượng\n",
    "# index của request ở req sẽ tương ứng với số lượng ở amount\n",
    "for i in data:\n",
    "    req.append(i.split()[0])\n",
    "    amount.append(int(i.split()[1])) # nhớ ép kiểu int cho số vì lúc nhập vào nó sẽ ở dạng string\n",
    "print(req)\n",
    "print(amount)"
   ]
  },
  {
   "cell_type": "markdown",
   "id": "b1baf1b7",
   "metadata": {},
   "source": [
    "Tính"
   ]
  },
  {
   "cell_type": "code",
   "execution_count": 41,
   "id": "6ee20372",
   "metadata": {},
   "outputs": [
    {
     "name": "stdout",
     "output_type": "stream",
     "text": [
      "800\n"
     ]
    }
   ],
   "source": [
    "balance = 0 \n",
    "for i in range(len(req)):\n",
    "    if req[i] == 'D':\n",
    "        balance += amount[i] # balance = balance + amount[i]\n",
    "    elif req[i] == 'W':\n",
    "        balance -= amount[i]\n",
    "print(balance)"
   ]
  },
  {
   "cell_type": "markdown",
   "id": "b86591c4",
   "metadata": {},
   "source": [
    "## Và sau đây sẽ là một bài hoàn chỉnh"
   ]
  },
  {
   "cell_type": "code",
   "execution_count": 42,
   "id": "3198bddf",
   "metadata": {},
   "outputs": [
    {
     "name": "stdout",
     "output_type": "stream",
     "text": [
      "Enter a file name: data.txt\n",
      "Enter an option (1. Content - 2. Compute): 1\n",
      "Content: D 400, D 500, W 200, D 100\n",
      "Enter an option (1. Content - 2. Compute): 2\n",
      "800\n"
     ]
    }
   ],
   "source": [
    "path = 'D:\\FPT-Summer22\\SSG104\\Source_PE_PFP\\\\'\n",
    "# nhập tên file\n",
    "file_name = input('Enter a file name: ')\n",
    "\n",
    "# Đọc dữ liệu từ file\n",
    "f =  open(path+file_name, 'r')\n",
    "data = f.readlines() #đọc từng dòng dữ liệu trong file\n",
    "\n",
    "# có thể thấy có kí tự \\n báo hiệu xuống dòng, ta cần loại bỏ kí tự thừa này\n",
    "for i in range(len(data)):\n",
    "    data[i] = data[i].replace('\\n', '') # xoá '\\n' khi đọc file\n",
    "\n",
    "req = [] # dùng để lưu trữ yêu cầu (request)\n",
    "amount = [] # dùng để lưuu trữ số lượng\n",
    "# index của request ở req sẽ tương ứng với số lượng ở amount\n",
    "for i in data:\n",
    "    req.append(i.split()[0])\n",
    "    amount.append(int(i.split()[1])) # nhớ ép kiểu int cho số vì lúc nhập vào nó sẽ ở dạng string\n",
    "\n",
    "# Tính toán\n",
    "balance = 0 \n",
    "for i in range(len(req)):\n",
    "    if req[i] == 'D':\n",
    "        balance += amount[i] # balance = balance + amount[i]\n",
    "    elif req[i] == 'W':\n",
    "        balance -= amount[i]\n",
    "\n",
    "# In ra theo yêu cầu\n",
    "while True: # vòng lặp sẽ lặp đi lặp lại cho đến khi input vào option là 2\n",
    "    option = int(input('Enter an option (1. Content - 2. Compute): '))\n",
    "    if option == 1:\n",
    "        print(\"Content:\", ', '.join(data))\n",
    "    elif option == 2:\n",
    "        print(balance)\n",
    "        break"
   ]
  }
 ],
 "metadata": {
  "kernelspec": {
   "display_name": "Python 3 (ipykernel)",
   "language": "python",
   "name": "python3"
  },
  "language_info": {
   "codemirror_mode": {
    "name": "ipython",
    "version": 3
   },
   "file_extension": ".py",
   "mimetype": "text/x-python",
   "name": "python",
   "nbconvert_exporter": "python",
   "pygments_lexer": "ipython3",
   "version": "3.9.12"
  }
 },
 "nbformat": 4,
 "nbformat_minor": 5
}
