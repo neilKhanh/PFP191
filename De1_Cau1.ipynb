{
 "cells": [
  {
   "cell_type": "code",
   "execution_count": 1,
   "id": "4245f2f1",
   "metadata": {},
   "outputs": [
    {
     "name": "stdout",
     "output_type": "stream",
     "text": [
      "Enter a range for the guessed number: 100\n",
      "Is 33 too high(h), too low(l), or correct(c): l\n",
      "Is 57 too high(h), too low(l), or correct(c): l\n",
      "Is 63 too high(h), too low(l), or correct(c): l\n",
      "Is 66 too high(h), too low(l), or correct(c): l\n",
      "Is 86 too high(h), too low(l), or correct(c): l\n",
      "Is 91 too high(h), too low(l), or correct(c): l\n",
      "Is 100 too high(h), too low(l), or correct(c): c\n",
      "Welldone! The computer guessed your number 100 correctly!\n"
     ]
    }
   ],
   "source": [
    "# ta sẽ sử dụng hàm hàm randint trong thư viện random để tạo một số tự nhiên ngẫu nhiên trong đoạn start,end\n",
    "# format:      random.randint(start, end)   hoặc trong trường hợp này       randint(start, end)\n",
    "from random import randint\n",
    "start = 0 \n",
    "\n",
    "\n",
    "# Lấy phần end là một số nguyên từ người dùng, nếu sai input --> báo lỗi\n",
    "try:\n",
    "    end = int(input('Enter a range for the guessed number: '))\n",
    "except:\n",
    "    print('Error')\n",
    "\n",
    "# chạy vòng lặp cho đến khi máy đoán đúng\n",
    "while True:\n",
    "    # máy tạo một số nguyên ngẫu nhiên trong đoạn start, end\n",
    "    computer_guess = randint(start, end)\n",
    "\n",
    "    # lấy thông tin từ người dùng xem số của máy lớn hơn, nhỏ hơn hay bằng số của máy\n",
    "    guess = input((f'Is {computer_guess} too high(h), too low(l), or correct(c): '))\n",
    "\n",
    "    if guess == 'l':    # Nếu số của máy bé hơn thì cập nhật biến start\n",
    "        start = computer_guess + 1\n",
    "    \n",
    "    elif guess == 'h':  # Nếu số của máy bé hơn thì cập nhật biến end\n",
    "        end = computer_guess - 1\n",
    "\n",
    "    elif guess == 'c': # Nếu số của máy bé đúng thì in ra\n",
    "        print(f'Welldone! The computer guessed your number {computer_guess} correctly!')\n",
    "        break\n"
   ]
  }
 ],
 "metadata": {
  "kernelspec": {
   "display_name": "Python 3 (ipykernel)",
   "language": "python",
   "name": "python3"
  },
  "language_info": {
   "codemirror_mode": {
    "name": "ipython",
    "version": 3
   },
   "file_extension": ".py",
   "mimetype": "text/x-python",
   "name": "python",
   "nbconvert_exporter": "python",
   "pygments_lexer": "ipython3",
   "version": "3.9.12"
  },
  "vscode": {
   "interpreter": {
    "hash": "58dbfdb34cf82127b32c5737e6183911655ff227e5c11e8f5e4b25048ae98ef2"
   }
  }
 },
 "nbformat": 4,
 "nbformat_minor": 5
}
